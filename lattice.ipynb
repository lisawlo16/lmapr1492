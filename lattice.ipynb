{
 "cells": [
  {
   "cell_type": "code",
   "execution_count": 1,
   "id": "9a60d392",
   "metadata": {},
   "outputs": [],
   "source": [
    "#import\n",
    "\n",
    "from pymatgen.ext.matproj import MPRester\n",
    "from pymatgen.symmetry.analyzer import SpacegroupAnalyzer\n",
    "\n",
    "#telechargement du fichier cif de mp-1367\n",
    "with MPRester(\"hJ9SDZIQUxgk5cVi\") as m:\n",
    "\n",
    "    # Structure for material id\n",
    "    structure = m.get_structure_by_material_id(\"mp-1367\")"
   ]
  },
  {
   "cell_type": "code",
   "execution_count": 2,
   "id": "ed730764",
   "metadata": {},
   "outputs": [
    {
     "name": "stdout",
     "output_type": "stream",
     "text": [
      "Les vecteurs de base du réseau direct sont : \n",
      " a =  [0.       3.182586 3.182586] \n",
      "  b =  [3.182586 0.       3.182586] \n",
      " c =  [3.182586 3.182586 0.      ] \n",
      "\n",
      "Les vecteurs de base du réseau réciproque sont : \n",
      " a* =  [-0.98711949  0.98711949  0.98711949] \n",
      "  b* =  [ 0.98711949 -0.98711949  0.98711949] \n",
      " c* =  [ 0.98711949  0.98711949 -0.98711949] \n",
      "\n"
     ]
    }
   ],
   "source": [
    "#determination les vecteurs de bases des des réseaux direct \n",
    "\n",
    "vect_dir = structure.lattice\n",
    "mat_dir = vect_dir.matrix\n",
    "print(\"Les vecteurs de base du réseau direct sont : \\n\", \"a = \",mat_dir[0], \"\\n\",\" b = \", mat_dir[1], \"\\n\", \"c = \", mat_dir[2], \"\\n\")\n",
    "\n",
    "#determination les vecteurs de bases des des réseaux réciproque\n",
    "\n",
    "vect_rec = vect_dir.reciprocal_lattice\n",
    "mat_rec = vect_rec.matrix\n",
    "print(\"Les vecteurs de base du réseau réciproque sont : \\n\", \"a* = \",mat_rec[0], \"\\n\",\" b* = \", mat_rec[1], \"\\n\", \"c* = \", mat_rec[2], \"\\n\")\n"
   ]
  },
  {
   "cell_type": "code",
   "execution_count": 3,
   "id": "bd5aed5b",
   "metadata": {},
   "outputs": [
    {
     "name": "stdout",
     "output_type": "stream",
     "text": [
      "Le type de maille est : cubic \n",
      "\n",
      "Le système cristallin est : cubic \n",
      "\n",
      "Le groupe ponctuel est : m-3m\n"
     ]
    }
   ],
   "source": [
    "#determination du type de maille\n",
    "\n",
    "space = SpacegroupAnalyzer(structure)\n",
    "maille = space.get_lattice_type()\n",
    "print(\"Le type de maille est :\", maille, \"\\n\")\n",
    "\n",
    "#determination du système cristallin\n",
    "\n",
    "syst_crist = space.get_crystal_system()\n",
    "print(\"Le système cristallin est :\", syst_crist, \"\\n\")\n",
    "\n",
    "#determination du groupe ponctuel\n",
    "\n",
    "group_ponct = space.get_point_group_symbol()\n",
    "print(\"Le groupe ponctuel est :\", group_ponct)"
   ]
  },
  {
   "cell_type": "code",
   "execution_count": null,
   "id": "3a3eb183",
   "metadata": {},
   "outputs": [],
   "source": []
  }
 ],
 "metadata": {
  "kernelspec": {
   "display_name": "Python 3",
   "language": "python",
   "name": "python3"
  },
  "language_info": {
   "codemirror_mode": {
    "name": "ipython",
    "version": 3
   },
   "file_extension": ".py",
   "mimetype": "text/x-python",
   "name": "python",
   "nbconvert_exporter": "python",
   "pygments_lexer": "ipython3",
   "version": "3.6.8"
  }
 },
 "nbformat": 4,
 "nbformat_minor": 5
}

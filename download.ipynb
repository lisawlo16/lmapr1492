{
 "cells": [
  {
   "cell_type": "code",
   "execution_count": 17,
   "id": "7b204127",
   "metadata": {},
   "outputs": [],
   "source": [
    "#telechargement des donnees du materiau sur base du fichier cif \n",
    "\n",
    "from pymatgen.io.cif import CifParser\n",
    "parser = CifParser(\"Mg2Sisymmetrized.cif\")\n",
    "structure1 = parser.get_structures()[0]\n",
    "\n",
    "#telechargement des données du materiau sur base de l'API\n",
    "\n",
    "from pymatgen.ext.matproj import MPRester\n",
    "with MPRester(\"hJ9SDZIQUxgk5cVi\") as m:\n",
    "\n",
    "    # Structure for material id\n",
    "    structure2 = m.get_structure_by_material_id(\"mp-1367\")\n",
    "\n",
    "    # Dos for material id\n",
    "    dos = m.get_dos_by_material_id(\"mp-1367\")\n",
    "\n",
    "    #Bandstructure for material id\n",
    "    bandstructure = m.get_bandstructure_by_material_id(\"mp-1367\")\n"
   ]
  },
  {
   "cell_type": "code",
   "execution_count": null,
   "id": "ec4e086f",
   "metadata": {},
   "outputs": [],
   "source": []
  }
 ],
 "metadata": {
  "kernelspec": {
   "display_name": "Python 3",
   "language": "python",
   "name": "python3"
  },
  "language_info": {
   "codemirror_mode": {
    "name": "ipython",
    "version": 3
   },
   "file_extension": ".py",
   "mimetype": "text/x-python",
   "name": "python",
   "nbconvert_exporter": "python",
   "pygments_lexer": "ipython3",
   "version": "3.6.8"
  }
 },
 "nbformat": 4,
 "nbformat_minor": 5
}
